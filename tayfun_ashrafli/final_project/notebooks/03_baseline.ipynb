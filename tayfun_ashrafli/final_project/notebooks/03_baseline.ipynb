{
 "cells": [
  {
   "cell_type": "code",
   "execution_count": 1,
   "id": "6ecf1497",
   "metadata": {},
   "outputs": [
    {
     "name": "stdout",
     "output_type": "stream",
     "text": [
      "✅ Got daily means for 2063 day(s)\n",
      "Baseline MAE = 3.91 µg/m³ over 2062 day‑pairs\n"
     ]
    }
   ],
   "source": [
    "import pandas as pd\n",
    "import numpy as np\n",
    "\n",
    "# 1. Load Reno PM2.5 data (adjust the filename if you changed the dates)\n",
    "df = pd.read_csv(\"../data/pm25_Reno_2024-07-01.csv\",\n",
    "                 parse_dates=[\"datetime_utc\"])\n",
    "\n",
    "# 2. Daily mean concentration\n",
    "daily = (df.set_index(\"datetime_utc\")\n",
    "           .resample(\"1D\")[\"pm25\"]\n",
    "           .mean()\n",
    "           .dropna())\n",
    "\n",
    "print(\"✅ Got daily means for\", len(daily), \"day(s)\")\n",
    "\n",
    "# 3. Baseline forecast: “tomorrow = yesterday”\n",
    "y_true = daily.shift(-1).dropna()          # tomorrow's actual value\n",
    "y_pred = daily.loc[y_true.index]           # yesterday's value\n",
    "\n",
    "if len(y_true) == 0:\n",
    "    print(\"Not enough consecutive days. \"\n",
    "          \"Re‑download a longer date range in 01_download.ipynb.\")\n",
    "else:\n",
    "    # 4. Mean Absolute Error (manual, no scikit‑learn needed)\n",
    "    mae = np.abs(y_true.values - y_pred.values).mean()\n",
    "    print(f\"Baseline MAE = {mae:.2f} µg/m³ over {len(y_true)} day‑pairs\")\n"
   ]
  }
 ],
 "metadata": {
  "kernelspec": {
   "display_name": "Python 3",
   "language": "python",
   "name": "python3"
  },
  "language_info": {
   "codemirror_mode": {
    "name": "ipython",
    "version": 3
   },
   "file_extension": ".py",
   "mimetype": "text/x-python",
   "name": "python",
   "nbconvert_exporter": "python",
   "pygments_lexer": "ipython3",
   "version": "3.12.4"
  }
 },
 "nbformat": 4,
 "nbformat_minor": 5
}

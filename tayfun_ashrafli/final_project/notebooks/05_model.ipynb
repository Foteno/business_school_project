{
 "cells": [
  {
   "cell_type": "code",
   "execution_count": 2,
   "id": "fa1c7af5",
   "metadata": {},
   "outputs": [
    {
     "name": "stdout",
     "output_type": "stream",
     "text": [
      "Random Forest MAE = 1.72 µg/m³  (baseline was 3.91 µg/m³)\n"
     ]
    },
    {
     "data": {
      "image/png": "[encoded data removed]",
      "text/plain": [
       "<Figure size 640x480 with 1 Axes>"
      ]
     },
     "metadata": {},
     "output_type": "display_data"
    }
   ],
   "source": [
    "# ================================================================\n",
    "#  Random‑Forest model: PM₂.₅ ← yesterday PM₂.₅ + today fire‑pixels\n",
    "# ================================================================\n",
    "import subprocess, sys, importlib, pandas as pd, numpy as np\n",
    "\n",
    "# --- 0) make sure scikit‑learn exists (auto‑install if missing) --\n",
    "try:\n",
    "    import sklearn\n",
    "except ImportError:\n",
    "    subprocess.check_call([sys.executable, \"-m\", \"pip\", \"install\", \"scikit-learn\", \"--quiet\"])\n",
    "    import sklearn\n",
    "\n",
    "from sklearn.ensemble import RandomForestRegressor\n",
    "from sklearn.metrics  import mean_absolute_error\n",
    "import matplotlib.pyplot as plt\n",
    "\n",
    "# --- 1) paths ----------------------------------------------------\n",
    "PM_FILE   = \"../data/pm25_Reno_2024-07-01.csv\"  # ← change if different\n",
    "FIRE_FILE = \"../data/fires_Reno_2025.csv\"       # ← file you saved\n",
    "\n",
    "# --- 2) daily PM₂.₅ mean ----------------------------------------\n",
    "pm = (pd.read_csv(PM_FILE, parse_dates=[\"datetime_utc\"])\n",
    "        .set_index(\"datetime_utc\")\n",
    "        .resample(\"1D\")[\"pm25\"]\n",
    "        .mean()\n",
    "        .rename(\"pm25\")\n",
    "        .to_frame())\n",
    "\n",
    "# --- 3) daily fire‑pixel counts ---------------------------------\n",
    "fires = (pd.read_csv(FIRE_FILE, parse_dates=[\"acq_date\"])\n",
    "           .groupby(\"acq_date\")\n",
    "           .size()\n",
    "           .rename(\"fire_pix\")\n",
    "           .to_frame())\n",
    "\n",
    "# --- 4) align indexes & feature eng. -----------------------------\n",
    "# Make both indexes tz‑naive and date‑only\n",
    "pm.index    = pd.to_datetime(pm.index,   utc=True).tz_convert(None).normalize()\n",
    "fires.index = pd.to_datetime(fires.index, utc=True).tz_convert(None).normalize()\n",
    "\n",
    "df = (pm.join(fires, how=\"left\")\n",
    "         .fillna(0)\n",
    "         .assign(pm25_prev=lambda x: x[\"pm25\"].shift(1))\n",
    "         .dropna())                            # first row has no prev‑day val\n",
    "\n",
    "X = df[[\"fire_pix\", \"pm25_prev\"]]\n",
    "y = df[\"pm25\"]\n",
    "\n",
    "# --- 5) simple train/test split: last 30 days = test --------------\n",
    "test_start = df.index.max() - pd.Timedelta(days=30)\n",
    "train_mask = df.index < test_start\n",
    "X_train, X_test = X[train_mask], X[~train_mask]\n",
    "y_train, y_test = y[train_mask], y[~train_mask]\n",
    "\n",
    "# --- 6) fit Random Forest -----------------------------------------\n",
    "rf = RandomForestRegressor(n_estimators=200, random_state=0)\n",
    "rf.fit(X_train, y_train)\n",
    "y_pred = rf.predict(X_test)\n",
    "\n",
    "mae_rf = mean_absolute_error(y_test, y_pred)\n",
    "print(f\"Random Forest MAE = {mae_rf:.2f} µg/m³  \"\n",
    "      \"(baseline was 3.91 µg/m³)\")\n",
    "\n",
    "# --- 7) quick feature importance plot (optional) ------------------\n",
    "(pd.Series(rf.feature_importances_, index=X.columns)\n",
    "   .plot.barh(title=\"Feature importance (RF)\"));\n",
    "plt.show()\n"
   ]
  }
 ],
 "metadata": {
  "kernelspec": {
   "display_name": "Python 3",
   "language": "python",
   "name": "python3"
  },
  "language_info": {
   "codemirror_mode": {
    "name": "ipython",
    "version": 3
   },
   "file_extension": ".py",
   "mimetype": "text/x-python",
   "name": "python",
   "nbconvert_exporter": "python",
   "pygments_lexer": "ipython3",
   "version": "3.12.4"
  }
 },
 "nbformat": 4,
 "nbformat_minor": 5
}

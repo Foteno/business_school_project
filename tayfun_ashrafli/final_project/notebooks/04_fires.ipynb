{
 "cells": [
  {
   "cell_type": "code",
   "execution_count": null,
   "id": "13bd67ce",
   "metadata": {},
   "outputs": [
    {
     "name": "stdout",
     "output_type": "stream",
     "text": [
      "Saved 63 pixels ➜ ..\\data\\fires_Reno_2025.csv\n"
     ]
    }
   ],
   "source": [
    "import pandas as pd\n",
    "from pathlib import Path\n",
    "\n",
    "DATA_DIR = Path(\"../data\")\n",
    "BOX = (-122.0, 38.0, -118.0, 41.0)    # lon_min, lat_min, lon_max, lat_max\n",
    "\n",
    "# 1. Load the archive file you just downloaded\n",
    "df = pd.read_csv(DATA_DIR / \"fire_archive_M-C61_609669.csv\")\n",
    "\n",
    "# 2. Keep only pixels in the Reno bounding box\n",
    "reno = df[(df[\"longitude\"].between(BOX[0], BOX[2])) &\n",
    "          (df[\"latitude\"].between(BOX[1], BOX[3]))].copy()\n",
    "\n",
    "# 3. Parse the date column and save\n",
    "reno[\"acq_date\"] = pd.to_datetime(reno[\"acq_date\"])\n",
    "out_path = DATA_DIR / \"fires_Reno_2025.csv\"\n",
    "reno.to_csv(out_path, index=False)\n",
    "\n",
    "print(\"Saved\", len(reno), \"pixels ➜\", out_path)"
   ]
  }
 ],
 "metadata": {
  "kernelspec": {
   "display_name": "Python 3",
   "language": "python",
   "name": "python3"
  },
  "language_info": {
   "codemirror_mode": {
    "name": "ipython",
    "version": 3
   },
   "file_extension": ".py",
   "mimetype": "text/x-python",
   "name": "python",
   "nbconvert_exporter": "python",
   "pygments_lexer": "ipython3",
   "version": "3.12.4"
  }
 },
 "nbformat": 4,
 "nbformat_minor": 5
}
